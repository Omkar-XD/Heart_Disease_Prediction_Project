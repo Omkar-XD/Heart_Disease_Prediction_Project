{
 "cells": [
  {
   "cell_type": "code",
   "execution_count": 2,
   "id": "7ffaa15b-fa85-4d2f-abba-90b95d4c1499",
   "metadata": {},
   "outputs": [
    {
     "name": "stdout",
     "output_type": "stream",
     "text": [
      "Requirement already satisfied: scikit-learn in c:\\users\\omkar\\appdata\\local\\programs\\python\\python312\\lib\\site-packages (1.5.2)Note: you may need to restart the kernel to use updated packages.\n",
      "\n",
      "Requirement already satisfied: numpy>=1.19.5 in c:\\users\\omkar\\appdata\\local\\programs\\python\\python312\\lib\\site-packages (from scikit-learn) (1.26.4)\n",
      "Requirement already satisfied: scipy>=1.6.0 in c:\\users\\omkar\\appdata\\local\\programs\\python\\python312\\lib\\site-packages (from scikit-learn) (1.14.1)\n",
      "Requirement already satisfied: joblib>=1.2.0 in c:\\users\\omkar\\appdata\\local\\programs\\python\\python312\\lib\\site-packages (from scikit-learn) (1.4.2)\n",
      "Requirement already satisfied: threadpoolctl>=3.1.0 in c:\\users\\omkar\\appdata\\local\\programs\\python\\python312\\lib\\site-packages (from scikit-learn) (3.5.0)\n"
     ]
    },
    {
     "name": "stderr",
     "output_type": "stream",
     "text": [
      "\n",
      "[notice] A new release of pip is available: 24.2 -> 24.3.1\n",
      "[notice] To update, run: python.exe -m pip install --upgrade pip\n"
     ]
    }
   ],
   "source": [
    "pip install scikit-learn"
   ]
  },
  {
   "cell_type": "markdown",
   "id": "f67bb386",
   "metadata": {},
   "source": [
    "# Model Implementation"
   ]
  },
  {
   "cell_type": "markdown",
   "id": "cec9e0db",
   "metadata": {},
   "source": [
    "## Importing Libraries"
   ]
  },
  {
   "cell_type": "code",
   "execution_count": 3,
   "id": "f6c9b417",
   "metadata": {},
   "outputs": [],
   "source": [
    "import pandas as pd\n",
    "import numpy as np\n",
    "import matplotlib.pyplot as plt\n",
    "from sklearn.model_selection import train_test_split\n",
    "from sklearn import svm\n",
    "from sklearn.linear_model import LogisticRegression\n",
    "from sklearn.naive_bayes import GaussianNB\n",
    "from sklearn.neighbors import KNeighborsClassifier\n",
    "from sklearn.ensemble import RandomForestClassifier\n",
    "from sklearn.tree import DecisionTreeClassifier\n",
    "import seaborn as sns\n",
    "from sklearn.metrics import accuracy_score\n",
    "from sklearn.model_selection import cross_val_score"
   ]
  },
  {
   "cell_type": "markdown",
   "id": "8ef8b247",
   "metadata": {},
   "source": [
    "## Importing Dataset"
   ]
  },
  {
   "cell_type": "code",
   "execution_count": 4,
   "id": "b7f3aace",
   "metadata": {},
   "outputs": [],
   "source": [
    "dataset=pd.read_csv(\"heart_data.csv\")\n",
    "x=dataset.iloc[:,:-1].values\n",
    "y=dataset.iloc[:,-1].values"
   ]
  },
  {
   "cell_type": "code",
   "execution_count": 5,
   "id": "18b24580",
   "metadata": {},
   "outputs": [
    {
     "data": {
      "text/plain": [
       "(303, 14)"
      ]
     },
     "execution_count": 5,
     "metadata": {},
     "output_type": "execute_result"
    }
   ],
   "source": [
    "dataset.shape"
   ]
  },
  {
   "cell_type": "code",
   "execution_count": 6,
   "id": "989c516e",
   "metadata": {},
   "outputs": [
    {
     "data": {
      "text/plain": [
       "(303, 13)"
      ]
     },
     "execution_count": 6,
     "metadata": {},
     "output_type": "execute_result"
    }
   ],
   "source": [
    "x.shape"
   ]
  },
  {
   "cell_type": "code",
   "execution_count": 7,
   "id": "ff326da0",
   "metadata": {},
   "outputs": [
    {
     "data": {
      "text/plain": [
       "array([[63.,  1.,  3., ...,  0.,  0.,  1.],\n",
       "       [37.,  1.,  2., ...,  0.,  0.,  2.],\n",
       "       [41.,  0.,  1., ...,  2.,  0.,  2.],\n",
       "       ...,\n",
       "       [68.,  1.,  0., ...,  1.,  2.,  3.],\n",
       "       [57.,  1.,  0., ...,  1.,  1.,  3.],\n",
       "       [57.,  0.,  1., ...,  1.,  1.,  2.]])"
      ]
     },
     "execution_count": 7,
     "metadata": {},
     "output_type": "execute_result"
    }
   ],
   "source": [
    "x"
   ]
  },
  {
   "cell_type": "code",
   "execution_count": 8,
   "id": "73f3f0a3",
   "metadata": {},
   "outputs": [
    {
     "data": {
      "text/plain": [
       "(303,)"
      ]
     },
     "execution_count": 8,
     "metadata": {},
     "output_type": "execute_result"
    }
   ],
   "source": [
    "y.shape"
   ]
  },
  {
   "cell_type": "markdown",
   "id": "f5dbd1c8",
   "metadata": {},
   "source": [
    "## Splitting Training Data and Testing Data"
   ]
  },
  {
   "cell_type": "code",
   "execution_count": 9,
   "id": "1959717b",
   "metadata": {},
   "outputs": [],
   "source": [
    "X_train, X_test, Y_train, Y_test=train_test_split(x, y, test_size=0.2, stratify=y, random_state=0)"
   ]
  },
  {
   "cell_type": "code",
   "execution_count": 10,
   "id": "7eccc58a",
   "metadata": {},
   "outputs": [
    {
     "data": {
      "text/plain": [
       "(242, 13)"
      ]
     },
     "execution_count": 10,
     "metadata": {},
     "output_type": "execute_result"
    }
   ],
   "source": [
    "X_train.shape"
   ]
  },
  {
   "cell_type": "code",
   "execution_count": 11,
   "id": "5b8f8bc0",
   "metadata": {},
   "outputs": [
    {
     "data": {
      "text/plain": [
       "(242,)"
      ]
     },
     "execution_count": 11,
     "metadata": {},
     "output_type": "execute_result"
    }
   ],
   "source": [
    "Y_train.shape"
   ]
  },
  {
   "cell_type": "markdown",
   "id": "81799fed",
   "metadata": {},
   "source": [
    "## Modelling"
   ]
  },
  {
   "cell_type": "code",
   "execution_count": 12,
   "id": "bd9d759a",
   "metadata": {},
   "outputs": [],
   "source": [
    "Models=[]\n",
    "Accuracy=[]\n",
    "KF=[]\n",
    "def save_accuracy(model, accuracy, kf_min, kf_max):\n",
    "    Models.append(model)\n",
    "    Accuracy.append(accuracy)\n",
    "    kf_min=round(kf_min,2)\n",
    "    kf_max=round(kf_max,2)\n",
    "    KF.append(str(kf_min)+\" - \"+str(kf_max))"
   ]
  },
  {
   "cell_type": "code",
   "execution_count": 13,
   "id": "87eb55f3",
   "metadata": {},
   "outputs": [],
   "source": [
    "Models.clear()\n",
    "Accuracy.clear()\n",
    "KF.clear()"
   ]
  },
  {
   "cell_type": "markdown",
   "id": "b502363f",
   "metadata": {},
   "source": [
    "## SVM"
   ]
  },
  {
   "cell_type": "code",
   "execution_count": 14,
   "id": "2a1faf6d",
   "metadata": {},
   "outputs": [
    {
     "name": "stdout",
     "output_type": "stream",
     "text": [
      "Accuracy of SVM is: 86.89\n"
     ]
    }
   ],
   "source": [
    "svm_model=svm.SVC(kernel=\"linear\")\n",
    "svm_model.fit(X_train, Y_train)\n",
    "svm_pred=svm_model.predict(X_test)\n",
    "accuracy_svm=round(accuracy_score(svm_pred, Y_test)*100,2)\n",
    "print(\"Accuracy of SVM is: \"+str(accuracy_svm))"
   ]
  },
  {
   "cell_type": "code",
   "execution_count": 15,
   "id": "b89890b8",
   "metadata": {},
   "outputs": [],
   "source": [
    "svm_kf = cross_val_score(estimator = svm_model, X = X_train, y = Y_train, cv = 10)\n",
    "save_accuracy(\"Kernel SVM\", accuracy_svm, svm_kf.min()*100, svm_kf.max()*100)\n"
   ]
  },
  {
   "cell_type": "markdown",
   "id": "32e3ec70",
   "metadata": {},
   "source": [
    "## Logistic Regression"
   ]
  },
  {
   "cell_type": "code",
   "execution_count": 16,
   "id": "0224cb6a",
   "metadata": {},
   "outputs": [
    {
     "name": "stdout",
     "output_type": "stream",
     "text": [
      "Accuracy of LR is: 88.52\n"
     ]
    },
    {
     "name": "stderr",
     "output_type": "stream",
     "text": [
      "C:\\Users\\omkar\\AppData\\Local\\Programs\\Python\\Python312\\Lib\\site-packages\\sklearn\\linear_model\\_logistic.py:469: ConvergenceWarning: lbfgs failed to converge (status=1):\n",
      "STOP: TOTAL NO. of ITERATIONS REACHED LIMIT.\n",
      "\n",
      "Increase the number of iterations (max_iter) or scale the data as shown in:\n",
      "    https://scikit-learn.org/stable/modules/preprocessing.html\n",
      "Please also refer to the documentation for alternative solver options:\n",
      "    https://scikit-learn.org/stable/modules/linear_model.html#logistic-regression\n",
      "  n_iter_i = _check_optimize_result(\n"
     ]
    }
   ],
   "source": [
    "LR_classifier= LogisticRegression(fit_intercept= False, n_jobs= 1)      #Model Trainging\n",
    "LR_classifier.fit(X_train, Y_train)\n",
    "lr_pred=LR_classifier.predict(X_test)\n",
    "accuracy_lr=round(accuracy_score(Y_test,lr_pred)*100,2)\n",
    "print(\"Accuracy of LR is: \"+str(accuracy_lr))"
   ]
  },
  {
   "cell_type": "code",
   "execution_count": 1,
   "id": "4e58765f",
   "metadata": {},
   "outputs": [
    {
     "ename": "NameError",
     "evalue": "name 'cross_val_score' is not defined",
     "output_type": "error",
     "traceback": [
      "\u001b[1;31m---------------------------------------------------------------------------\u001b[0m",
      "\u001b[1;31mNameError\u001b[0m                                 Traceback (most recent call last)",
      "Cell \u001b[1;32mIn[1], line 1\u001b[0m\n\u001b[1;32m----> 1\u001b[0m lr_kf \u001b[38;5;241m=\u001b[39m \u001b[43mcross_val_score\u001b[49m(estimator \u001b[38;5;241m=\u001b[39m LR_classifier, X \u001b[38;5;241m=\u001b[39m X_train, y \u001b[38;5;241m=\u001b[39m Y_train, cv \u001b[38;5;241m=\u001b[39m \u001b[38;5;241m10\u001b[39m)\n\u001b[0;32m      2\u001b[0m \u001b[38;5;28mprint\u001b[39m(lr_kf)\n\u001b[0;32m      3\u001b[0m save_accuracy(\u001b[38;5;124m\"\u001b[39m\u001b[38;5;124mLogistic Regression\u001b[39m\u001b[38;5;124m\"\u001b[39m, accuracy_lr, lr_kf\u001b[38;5;241m.\u001b[39mmin()\u001b[38;5;241m*\u001b[39m\u001b[38;5;241m100\u001b[39m, lr_kf\u001b[38;5;241m.\u001b[39mmax()\u001b[38;5;241m*\u001b[39m\u001b[38;5;241m100\u001b[39m)\n",
      "\u001b[1;31mNameError\u001b[0m: name 'cross_val_score' is not defined"
     ]
    }
   ],
   "source": [
    "lr_kf = cross_val_score(estimator = LR_classifier, X = X_train, y = Y_train, cv = 10)\n",
    "print(lr_kf)\n",
    "save_accuracy(\"Logistic Regression\", accuracy_lr, lr_kf.min()*100, lr_kf.max()*100)"
   ]
  },
  {
   "cell_type": "markdown",
   "id": "633e09ff",
   "metadata": {},
   "source": [
    "## Naive Bayes"
   ]
  },
  {
   "cell_type": "code",
   "execution_count": 18,
   "id": "259e6875",
   "metadata": {},
   "outputs": [
    {
     "name": "stdout",
     "output_type": "stream",
     "text": [
      "Accuracy of Naive Bayes is: 80.33\n"
     ]
    }
   ],
   "source": [
    "nb_model = GaussianNB()\n",
    "nb_model.fit(X_train, Y_train)\n",
    "nb_pred=nb_model.predict(X_test)\n",
    "accuracy_nb=round(accuracy_score(Y_test,nb_pred)*100,2)\n",
    "print(\"Accuracy of Naive Bayes is: \"+str(accuracy_nb))"
   ]
  },
  {
   "cell_type": "code",
   "execution_count": 19,
   "id": "690037ba",
   "metadata": {},
   "outputs": [
    {
     "name": "stdout",
     "output_type": "stream",
     "text": [
      "[0.84       0.68       0.875      0.91666667 0.875      0.83333333\n",
      " 0.75       0.75       0.66666667 0.91666667]\n"
     ]
    }
   ],
   "source": [
    "nb_kf = cross_val_score(estimator = nb_model, X = X_train, y = Y_train, cv = 10)\n",
    "save_accuracy(\"Naive Bayes\", accuracy_nb, nb_kf.min()*100, nb_kf.max()*100)\n",
    "print(nb_kf)"
   ]
  },
  {
   "cell_type": "markdown",
   "id": "9125ca35",
   "metadata": {},
   "source": [
    "## K-NN"
   ]
  },
  {
   "cell_type": "code",
   "execution_count": 19,
   "id": "744dc26e",
   "metadata": {},
   "outputs": [
    {
     "name": "stdout",
     "output_type": "stream",
     "text": [
      "Accuracy of K-NN is: 78.69\n"
     ]
    }
   ],
   "source": [
    "knn_model = KNeighborsClassifier(algorithm = 'auto', metric = 'minkowski', n_jobs = 1, n_neighbors = 20, weights = 'uniform', p = 1)\n",
    "knn_model.fit(X_train, Y_train)\n",
    "knn_pred=knn_model.predict(X_test)\n",
    "accuracy_knn=round(accuracy_score(Y_test,knn_pred)*100,2)\n",
    "print(\"Accuracy of K-NN is: \"+str(accuracy_knn))"
   ]
  },
  {
   "cell_type": "code",
   "execution_count": 20,
   "id": "fe27592f",
   "metadata": {},
   "outputs": [
    {
     "name": "stdout",
     "output_type": "stream",
     "text": [
      "[0.84       0.68       0.875      0.91666667 0.875      0.83333333\n",
      " 0.75       0.75       0.66666667 0.91666667]\n"
     ]
    }
   ],
   "source": [
    "knn_kf = cross_val_score(estimator = knn_model, X = X_train, y = Y_train, cv = 10)\n",
    "save_accuracy(\"K-Nearest Neighbors\", accuracy_knn, knn_kf.min()*100, knn_kf.max()*100)\n",
    "print(nb_kf)"
   ]
  },
  {
   "cell_type": "markdown",
   "id": "3e93ae5b",
   "metadata": {},
   "source": [
    "## Random Forest"
   ]
  },
  {
   "cell_type": "code",
   "execution_count": 21,
   "id": "e10ec9a8",
   "metadata": {},
   "outputs": [
    {
     "name": "stdout",
     "output_type": "stream",
     "text": [
      "Accuracy of Random Forest is: 88.52\n"
     ]
    }
   ],
   "source": [
    "rf_model = RandomForestClassifier(random_state=221)\n",
    "rf_model.fit(X_train, Y_train)\n",
    "rf_pred=rf_model.predict(X_test)\n",
    "accuracy_rf=round(accuracy_score(Y_test,rf_pred)*100,2)\n",
    "print(\"Accuracy of Random Forest is: \"+str(accuracy_rf))"
   ]
  },
  {
   "cell_type": "code",
   "execution_count": 22,
   "id": "03cd0ecd",
   "metadata": {},
   "outputs": [
    {
     "name": "stdout",
     "output_type": "stream",
     "text": [
      "[0.92       0.76       0.79166667 0.91666667 0.75       0.95833333\n",
      " 0.70833333 0.66666667 0.75       0.95833333]\n"
     ]
    }
   ],
   "source": [
    "rf_kf = cross_val_score(estimator = rf_model, X = X_train, y = Y_train, cv = 10)\n",
    "save_accuracy(\"Random Forest\", accuracy_rf, rf_kf.min()*100, rf_kf.max()*100)\n",
    "print(rf_kf)"
   ]
  },
  {
   "cell_type": "markdown",
   "id": "21957946",
   "metadata": {},
   "source": [
    "## Evaluating Models"
   ]
  },
  {
   "cell_type": "code",
   "execution_count": 23,
   "id": "285a6cb0",
   "metadata": {},
   "outputs": [],
   "source": [
    "model_results=pd.DataFrame({\"ML Model\": Models,\n",
    "                     \"Confusion Matrix Accuracy\": Accuracy,\n",
    "                     \"K-Folds Accuracy\": KF})"
   ]
  },
  {
   "cell_type": "code",
   "execution_count": 24,
   "id": "f96ab974",
   "metadata": {},
   "outputs": [
    {
     "data": {
      "text/html": [
       "<div>\n",
       "<style scoped>\n",
       "    .dataframe tbody tr th:only-of-type {\n",
       "        vertical-align: middle;\n",
       "    }\n",
       "\n",
       "    .dataframe tbody tr th {\n",
       "        vertical-align: top;\n",
       "    }\n",
       "\n",
       "    .dataframe thead th {\n",
       "        text-align: right;\n",
       "    }\n",
       "</style>\n",
       "<table border=\"1\" class=\"dataframe\">\n",
       "  <thead>\n",
       "    <tr style=\"text-align: right;\">\n",
       "      <th></th>\n",
       "      <th>ML Model</th>\n",
       "      <th>Confusion Matrix Accuracy</th>\n",
       "      <th>K-Folds Accuracy</th>\n",
       "    </tr>\n",
       "  </thead>\n",
       "  <tbody>\n",
       "    <tr>\n",
       "      <th>1</th>\n",
       "      <td>Logistic Regression</td>\n",
       "      <td>88.52</td>\n",
       "      <td>70.83 - 91.67</td>\n",
       "    </tr>\n",
       "    <tr>\n",
       "      <th>4</th>\n",
       "      <td>Random Forest</td>\n",
       "      <td>88.52</td>\n",
       "      <td>66.67 - 95.83</td>\n",
       "    </tr>\n",
       "    <tr>\n",
       "      <th>0</th>\n",
       "      <td>Kernel SVM</td>\n",
       "      <td>86.89</td>\n",
       "      <td>70.83 - 92.0</td>\n",
       "    </tr>\n",
       "    <tr>\n",
       "      <th>2</th>\n",
       "      <td>Naive Bayes</td>\n",
       "      <td>80.33</td>\n",
       "      <td>66.67 - 91.67</td>\n",
       "    </tr>\n",
       "    <tr>\n",
       "      <th>3</th>\n",
       "      <td>K-Nearest Neighbors</td>\n",
       "      <td>78.69</td>\n",
       "      <td>50.0 - 87.5</td>\n",
       "    </tr>\n",
       "  </tbody>\n",
       "</table>\n",
       "</div>"
      ],
      "text/plain": [
       "              ML Model  Confusion Matrix Accuracy K-Folds Accuracy\n",
       "1  Logistic Regression                      88.52    70.83 - 91.67\n",
       "4        Random Forest                      88.52    66.67 - 95.83\n",
       "0           Kernel SVM                      86.89     70.83 - 92.0\n",
       "2          Naive Bayes                      80.33    66.67 - 91.67\n",
       "3  K-Nearest Neighbors                      78.69      50.0 - 87.5"
      ]
     },
     "execution_count": 24,
     "metadata": {},
     "output_type": "execute_result"
    }
   ],
   "source": [
    "model_results.sort_values(by=[\"Confusion Matrix Accuracy\"],ascending=False)"
   ]
  },
  {
   "cell_type": "code",
   "execution_count": 25,
   "id": "ec5548ce",
   "metadata": {},
   "outputs": [],
   "source": [
    "model_results.to_excel(\"All Model Accuracies.xlsx\")"
   ]
  },
  {
   "cell_type": "code",
   "execution_count": 26,
   "id": "157fb95f",
   "metadata": {},
   "outputs": [
    {
     "data": {
      "image/png": "[encoded data removed]",
      "text/plain": [
       "<Figure size 2500x800 with 1 Axes>"
      ]
     },
     "metadata": {},
     "output_type": "display_data"
    }
   ],
   "source": [
    "sns.set(rc={'figure.figsize':(25,8)})\n",
    "plt.xlabel(\"Algorithms\")\n",
    "plt.ylabel(\"Accuracy score\")\n",
    "sns.barplot(x=model_results[\"ML Model\"], y=model_results[\"Confusion Matrix Accuracy\"])\n",
    "plt.savefig(\"Accuracy Graph\",format='svg', dpi=1200)\n"
   ]
  },
  {
   "cell_type": "code",
   "execution_count": null,
   "id": "4c53251f",
   "metadata": {},
   "outputs": [],
   "source": [
    "# Take input from user\n",
    "age = int(input(\"Enter age: \"))\n",
    "sex = int(input(\"Enter sex (0 for female, 1 for male): \"))\n",
    "cp = int(input(\"Enter chest pain type (0-3): \"))\n",
    "trestbps = int(input(\"Enter resting blood pressure: \"))\n",
    "chol = int(input(\"Enter serum cholesterol in mg/dl: \"))\n",
    "fbs = int(input(\"Enter fasting blood sugar > 120 mg/dl (1 for True, 0 for False): \"))\n",
    "restecg = int(input(\"Enter resting electrocardiographic results (0-2): \"))\n",
    "thalach = int(input(\"Enter maximum heart rate achieved: \"))\n",
    "exang = int(input(\"Enter exercise induced angina (1 for Yes, 0 for No): \"))\n",
    "oldpeak = float(input(\"Enter ST depression induced by exercise relative to rest: \"))\n",
    "slope = int(input(\"Enter the slope of the peak exercise ST segment (0-2): \"))\n",
    "ca = int(input(\"Enter number of major vessels (0-3) colored by flourosopy: \"))\n",
    "thal = int(input(\"Enter thalassemia (0-3): \"))\n",
    "\n",
    "# Put the input into a numpy array\n",
    "new_data = np.array([[age, sex, cp, trestbps, chol, fbs, restecg, thalach, exang, oldpeak, slope, ca, thal]])\n",
    "\n",
    "# Use the trained model to predict\n",
    "prediction = svm_model.predict(new_data)\n",
    "\n",
    "# Print the prediction\n",
    "if prediction[0] == 1:\n",
    "    print(\"The model predicts that the person has heart disease.\")\n",
    "else:\n",
    "    print(\"The model predicts that the person does not have heart disease.\")\n"
   ]
  },
  {
   "cell_type": "code",
   "execution_count": 28,
   "id": "ccaf75a1",
   "metadata": {},
   "outputs": [
    {
     "data": {
      "text/plain": [
       "['heart_disease_model.pkl']"
      ]
     },
     "execution_count": 28,
     "metadata": {},
     "output_type": "execute_result"
    }
   ],
   "source": [
    "#import joblib\n",
    "\n",
    "# Assuming best_model is your trained model\n",
    "#best_model = rf_model  # Replace with your best-performing model\n",
    "\n",
    "# Save the model to a file\n",
    "#joblib.dump(best_model, 'heart_disease_model.pkl')"
   ]
  },
  {
   "cell_type": "code",
   "execution_count": 20,
   "id": "820393dd",
   "metadata": {},
   "outputs": [
    {
     "ename": "NameError",
     "evalue": "name 'rf_model' is not defined",
     "output_type": "error",
     "traceback": [
      "\u001b[1;31m---------------------------------------------------------------------------\u001b[0m",
      "\u001b[1;31mNameError\u001b[0m                                 Traceback (most recent call last)",
      "Cell \u001b[1;32mIn[20], line 4\u001b[0m\n\u001b[0;32m      2\u001b[0m \u001b[38;5;66;03m#filename = rf_model\u001b[39;00m\n\u001b[0;32m      3\u001b[0m filename \u001b[38;5;241m=\u001b[39m \u001b[38;5;124m'\u001b[39m\u001b[38;5;124mheart-disease-prediction-knn-model.pkl\u001b[39m\u001b[38;5;124m'\u001b[39m\n\u001b[1;32m----> 4\u001b[0m pickle\u001b[38;5;241m.\u001b[39mdump(\u001b[43mrf_model\u001b[49m, \u001b[38;5;28mopen\u001b[39m(filename, \u001b[38;5;124m'\u001b[39m\u001b[38;5;124mwb\u001b[39m\u001b[38;5;124m'\u001b[39m))\n",
      "\u001b[1;31mNameError\u001b[0m: name 'rf_model' is not defined"
     ]
    }
   ],
   "source": [
    "import pickle\n",
    "#filename = rf_model\n",
    "filename = 'heart-disease-prediction-knn-model.pkl'\n",
    "pickle.dump(rf_model, open(filename, 'wb'))"
   ]
  },
  {
   "cell_type": "code",
   "execution_count": 22,
   "id": "5ffc7c31",
   "metadata": {},
   "outputs": [
    {
     "name": "stdout",
     "output_type": "stream",
     "text": [
      "Requirement already satisfied: flask in c:\\users\\omkar\\appdata\\local\\programs\\python\\python312\\lib\\site-packages (3.0.3)\n",
      "Requirement already satisfied: Werkzeug>=3.0.0 in c:\\users\\omkar\\appdata\\local\\programs\\python\\python312\\lib\\site-packages (from flask) (3.0.4)\n",
      "Requirement already satisfied: Jinja2>=3.1.2 in c:\\users\\omkar\\appdata\\local\\programs\\python\\python312\\lib\\site-packages (from flask) (3.1.4)\n",
      "Requirement already satisfied: itsdangerous>=2.1.2 in c:\\users\\omkar\\appdata\\local\\programs\\python\\python312\\lib\\site-packages (from flask) (2.2.0)\n",
      "Requirement already satisfied: click>=8.1.3 in c:\\users\\omkar\\appdata\\local\\programs\\python\\python312\\lib\\site-packages (from flask) (8.1.7)\n",
      "Requirement already satisfied: blinker>=1.6.2 in c:\\users\\omkar\\appdata\\local\\programs\\python\\python312\\lib\\site-packages (from flask) (1.8.2)\n",
      "Requirement already satisfied: colorama in c:\\users\\omkar\\appdata\\local\\programs\\python\\python312\\lib\\site-packages (from click>=8.1.3->flask) (0.4.6)\n",
      "Requirement already satisfied: MarkupSafe>=2.0 in c:\\users\\omkar\\appdata\\local\\programs\\python\\python312\\lib\\site-packages (from Jinja2>=3.1.2->flask) (2.1.5)\n",
      "Note: you may need to restart the kernel to use updated packages.\n"
     ]
    },
    {
     "name": "stderr",
     "output_type": "stream",
     "text": [
      "\n",
      "[notice] A new release of pip is available: 24.2 -> 24.3.1\n",
      "[notice] To update, run: python.exe -m pip install --upgrade pip\n"
     ]
    }
   ],
   "source": [
    "pip install flask"
   ]
  },
  {
   "cell_type": "code",
   "execution_count": null,
   "id": "3038c894-f99f-4eef-bbe0-8485c1fc55d0",
   "metadata": {},
   "outputs": [],
   "source": []
  }
 ],
 "metadata": {
  "kernelspec": {
   "display_name": "Python 3 (ipykernel)",
   "language": "python",
   "name": "python3"
  },
  "language_info": {
   "codemirror_mode": {
    "name": "ipython",
    "version": 3
   },
   "file_extension": ".py",
   "mimetype": "text/x-python",
   "name": "python",
   "nbconvert_exporter": "python",
   "pygments_lexer": "ipython3",
   "version": "3.12.6"
  }
 },
 "nbformat": 4,
 "nbformat_minor": 5
}
